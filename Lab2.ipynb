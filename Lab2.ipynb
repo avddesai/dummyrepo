{
 "cells": [
  {
   "cell_type": "code",
   "execution_count": 1,
   "id": "6dca226a",
   "metadata": {},
   "outputs": [
    {
     "name": "stdout",
     "output_type": "stream",
     "text": [
      "[1] \"abc\"\n",
      "[1] 12.5\n",
      "[1] 63\n",
      "[1] TRUE\n",
      "[1] 2+3i\n",
      "[1] 68 65 6c 6c 6f\n"
     ]
    }
   ],
   "source": [
    "# Atomic vector of type character.\n",
    "print(\"abc\");\n",
    "\n",
    "# Atomic vector of type double.\n",
    "print(12.5)\n",
    "\n",
    "# Atomic vector of type integer.\n",
    "print(63L)\n",
    "\n",
    "# Atomic vector of type logical.\n",
    "print(TRUE)\n",
    "\n",
    "# Atomic vector of type complex.\n",
    "print(2+3i)\n",
    "\n",
    "# Atomic vector of type raw.\n",
    "print(charToRaw('hello'))"
   ]
  },
  {
   "cell_type": "code",
   "execution_count": 2,
   "id": "6a078a70",
   "metadata": {},
   "outputs": [
    {
     "name": "stdout",
     "output_type": "stream",
     "text": [
      "[1]  5  6  7  8  9 10 11 12 13\n",
      "[1]  6.6  7.6  8.6  9.6 10.6 11.6 12.6\n"
     ]
    }
   ],
   "source": [
    "# Creating a sequence from 5 to 13.\n",
    "v <- 5:13\n",
    "print(v)\n",
    "\n",
    "# Creating a sequence from 6.6 to 12.6.\n",
    "v <- 6.6:12.6\n",
    "print(v)"
   ]
  },
  {
   "cell_type": "code",
   "execution_count": 3,
   "id": "f7963179",
   "metadata": {},
   "outputs": [
    {
     "name": "stdout",
     "output_type": "stream",
     "text": [
      " [1] 5.0 5.4 5.8 6.2 6.6 7.0 7.4 7.8 8.2 8.6 9.0\n"
     ]
    }
   ],
   "source": [
    "# Create vector with elements from 5 to 9 incrementing by 0.4.\n",
    "print(seq(5, 9, by = 0.4))"
   ]
  },
  {
   "cell_type": "code",
   "execution_count": 4,
   "id": "70e95470",
   "metadata": {},
   "outputs": [
    {
     "name": "stdout",
     "output_type": "stream",
     "text": [
      "[1] \"apple\" \"red\"   \"5\"     \"TRUE\" \n"
     ]
    }
   ],
   "source": [
    "# The logical and numeric values are converted to characters.\n",
    "s <- c('apple','red',5,TRUE)\n",
    "print(s)"
   ]
  },
  {
   "cell_type": "code",
   "execution_count": 5,
   "id": "91e70180",
   "metadata": {},
   "outputs": [
    {
     "name": "stdout",
     "output_type": "stream",
     "text": [
      "[1] \"Mon\" \"Tue\" \"Fri\"\n",
      "[1] \"Sun\" \"Fri\"\n",
      "[1] \"Sun\" \"Tue\" \"Wed\" \"Fri\" \"Sat\"\n",
      "[1] \"Sun\"\n"
     ]
    }
   ],
   "source": [
    "# Accessing vector elements using position.\n",
    "t <- c(\"Sun\",\"Mon\",\"Tue\",\"Wed\",\"Thurs\",\"Fri\",\"Sat\")\n",
    "u <- t[c(2,3,6)]\n",
    "print(u)\n",
    "\n",
    "# Accessing vector elements using logical indexing.\n",
    "v <- t[c(TRUE,FALSE,FALSE,FALSE,FALSE,TRUE,FALSE)]\n",
    "print(v)\n",
    "\n",
    "# Accessing vector elements using negative indexing.\n",
    "x <- t[c(-2,-5)]\n",
    "print(x)\n",
    "\n",
    "# Accessing vector elements using 0/1 indexing.\n",
    "y <- t[c(0,0,0,0,0,0,1)]\n",
    "print(y)"
   ]
  },
  {
   "cell_type": "code",
   "execution_count": 6,
   "id": "1d1d1b52",
   "metadata": {},
   "outputs": [
    {
     "name": "stdout",
     "output_type": "stream",
     "text": [
      "[1]  7 19  4 13  1 13\n",
      "[1] -1 -3  4 -3 -1  9\n",
      "[1] 12 88  0 40  0 22\n",
      "[1] 0.7500000 0.7272727       Inf 0.6250000 0.0000000 5.5000000\n"
     ]
    }
   ],
   "source": [
    "# Create two vectors.\n",
    "v1 <- c(3,8,4,5,0,11)\n",
    "v2 <- c(4,11,0,8,1,2)\n",
    "\n",
    "# Vector addition.\n",
    "add.result <- v1+v2\n",
    "print(add.result)\n",
    "\n",
    "# Vector subtraction.\n",
    "sub.result <- v1-v2\n",
    "print(sub.result)\n",
    "\n",
    "# Vector multiplication.\n",
    "multi.result <- v1*v2\n",
    "print(multi.result)\n",
    "\n",
    "# Vector division.\n",
    "divi.result <- v1/v2\n",
    "print(divi.result)"
   ]
  },
  {
   "cell_type": "code",
   "execution_count": 7,
   "id": "53c52511",
   "metadata": {},
   "outputs": [
    {
     "name": "stdout",
     "output_type": "stream",
     "text": [
      "[1]  7 19  8 16  4 22\n",
      "[1] -1 -3  0 -6 -4  0\n"
     ]
    }
   ],
   "source": [
    "v1 <- c(3,8,4,5,0,11)\n",
    "v2 <- c(4,11)\n",
    "# V2 becomes c(4,11,4,11,4,11)\n",
    "\n",
    "add.result <- v1+v2\n",
    "print(add.result)\n",
    "\n",
    "sub.result <- v1-v2\n",
    "print(sub.result)"
   ]
  },
  {
   "cell_type": "code",
   "execution_count": 8,
   "id": "12564839",
   "metadata": {},
   "outputs": [
    {
     "name": "stdout",
     "output_type": "stream",
     "text": [
      "[1]  -9   0   3   4   5   8  11 304\n",
      "[1] 304  11   8   5   4   3   0  -9\n",
      "[1] \"Blue\"   \"Red\"    \"violet\" \"yellow\"\n",
      "[1] \"yellow\" \"violet\" \"Red\"    \"Blue\"  \n"
     ]
    }
   ],
   "source": [
    "v <- c(3,8,4,5,0,11, -9, 304)\n",
    "\n",
    "# Sort the elements of the vector.\n",
    "sort.result <- sort(v)\n",
    "print(sort.result)\n",
    "\n",
    "# Sort the elements in the reverse order.\n",
    "revsort.result <- sort(v, decreasing = TRUE)\n",
    "print(revsort.result)\n",
    "\n",
    "# Sorting character vectors.\n",
    "v <- c(\"Red\",\"Blue\",\"yellow\",\"violet\")\n",
    "sort.result <- sort(v)\n",
    "print(sort.result)\n",
    "\n",
    "# Sorting character vectors in reverse order.\n",
    "revsort.result <- sort(v, decreasing = TRUE)\n",
    "print(revsort.result)"
   ]
  },
  {
   "cell_type": "code",
   "execution_count": 9,
   "id": "45665363",
   "metadata": {},
   "outputs": [
    {
     "name": "stdout",
     "output_type": "stream",
     "text": [
      "     [,1] [,2] [,3]\n",
      "[1,]    3    4    5\n",
      "[2,]    6    7    8\n",
      "[3,]    9   10   11\n",
      "[4,]   12   13   14\n",
      "     [,1] [,2] [,3]\n",
      "[1,]    3    7   11\n",
      "[2,]    4    8   12\n",
      "[3,]    5    9   13\n",
      "[4,]    6   10   14\n",
      "     col1 col2 col3\n",
      "row1    3    4    5\n",
      "row2    6    7    8\n",
      "row3    9   10   11\n",
      "row4   12   13   14\n"
     ]
    }
   ],
   "source": [
    "# Elements are arranged sequentially by row.\n",
    "M <- matrix(c(3:14), nrow = 4, byrow = TRUE)\n",
    "print(M)\n",
    "\n",
    "# Elements are arranged sequentially by column.\n",
    "N <- matrix(c(3:14), nrow = 4, byrow = FALSE)\n",
    "print(N)\n",
    "\n",
    "# Define the column and row names.\n",
    "rownames = c(\"row1\", \"row2\", \"row3\", \"row4\")\n",
    "colnames = c(\"col1\", \"col2\", \"col3\")\n",
    "\n",
    "P <- matrix(c(3:14), nrow = 4, byrow = TRUE, dimnames = list(rownames, colnames))\n",
    "print(P)"
   ]
  },
  {
   "cell_type": "code",
   "execution_count": 10,
   "id": "2a4f7783",
   "metadata": {},
   "outputs": [
    {
     "name": "stdout",
     "output_type": "stream",
     "text": [
      "[1] 5\n",
      "[1] 13\n",
      "col1 col2 col3 \n",
      "   6    7    8 \n",
      "row1 row2 row3 row4 \n",
      "   5    8   11   14 \n"
     ]
    }
   ],
   "source": [
    "# Define the column and row names.\n",
    "rownames = c(\"row1\", \"row2\", \"row3\", \"row4\")\n",
    "colnames = c(\"col1\", \"col2\", \"col3\")\n",
    "\n",
    "# Create the matrix.\n",
    "P <- matrix(c(3:14), nrow = 4, byrow = TRUE, dimnames = list(rownames, colnames))\n",
    "\n",
    "# Access the element at 3rd column and 1st row.\n",
    "print(P[1,3])\n",
    "\n",
    "# Access the element at 2nd column and 4th row.\n",
    "print(P[4,2])\n",
    "\n",
    "# Access only the  2nd row.\n",
    "print(P[2,])\n",
    "\n",
    "# Access only the 3rd column.\n",
    "print(P[,3])"
   ]
  },
  {
   "cell_type": "code",
   "execution_count": 11,
   "id": "af829704",
   "metadata": {},
   "outputs": [
    {
     "name": "stdout",
     "output_type": "stream",
     "text": [
      "     [,1] [,2] [,3]\n",
      "[1,]    3   -1    2\n",
      "[2,]    9    4    6\n",
      "     [,1] [,2] [,3]\n",
      "[1,]    5    0    3\n",
      "[2,]    2    9    4\n",
      "Result of addition \n",
      "     [,1] [,2] [,3]\n",
      "[1,]    8   -1    5\n",
      "[2,]   11   13   10\n",
      "Result of subtraction \n",
      "     [,1] [,2] [,3]\n",
      "[1,]   -2   -1   -1\n",
      "[2,]    7   -5    2\n"
     ]
    }
   ],
   "source": [
    "# Create two 2x3 matrices.\n",
    "matrix1 <- matrix(c(3, 9, -1, 4, 2, 6), nrow = 2)\n",
    "print(matrix1)\n",
    "\n",
    "matrix2 <- matrix(c(5, 2, 0, 9, 3, 4), nrow = 2)\n",
    "print(matrix2)\n",
    "\n",
    "# Add the matrices.\n",
    "result <- matrix1 + matrix2\n",
    "cat(\"Result of addition\",\"\\n\")\n",
    "print(result)\n",
    "\n",
    "# Subtract the matrices\n",
    "result <- matrix1 - matrix2\n",
    "cat(\"Result of subtraction\",\"\\n\")\n",
    "print(result)"
   ]
  },
  {
   "cell_type": "code",
   "execution_count": 12,
   "id": "48d109b9",
   "metadata": {},
   "outputs": [
    {
     "name": "stdout",
     "output_type": "stream",
     "text": [
      "     [,1] [,2] [,3]\n",
      "[1,]    3   -1    2\n",
      "[2,]    9    4    6\n",
      "     [,1] [,2] [,3]\n",
      "[1,]    5    0    3\n",
      "[2,]    2    9    4\n",
      "Result of multiplication \n",
      "     [,1] [,2] [,3]\n",
      "[1,]   15    0    6\n",
      "[2,]   18   36   24\n",
      "Result of division \n",
      "     [,1]      [,2]      [,3]\n",
      "[1,]  0.6      -Inf 0.6666667\n",
      "[2,]  4.5 0.4444444 1.5000000\n"
     ]
    }
   ],
   "source": [
    "# Create two 2x3 matrices.\n",
    "matrix1 <- matrix(c(3, 9, -1, 4, 2, 6), nrow = 2)\n",
    "print(matrix1)\n",
    "\n",
    "matrix2 <- matrix(c(5, 2, 0, 9, 3, 4), nrow = 2)\n",
    "print(matrix2)\n",
    "\n",
    "# Multiply the matrices.\n",
    "result <- matrix1 * matrix2\n",
    "cat(\"Result of multiplication\",\"\\n\")\n",
    "print(result)\n",
    "\n",
    "# Divide the matrices\n",
    "result <- matrix1 / matrix2\n",
    "cat(\"Result of division\",\"\\n\")\n",
    "print(result)"
   ]
  },
  {
   "cell_type": "code",
   "execution_count": 13,
   "id": "c78257f6",
   "metadata": {},
   "outputs": [
    {
     "name": "stdout",
     "output_type": "stream",
     "text": [
      "  emp_id emp_name salary start_date\n",
      "1      1     Rick 623.30 2012-01-01\n",
      "2      2      Dan 515.20 2013-09-23\n",
      "3      3 Michelle 611.00 2014-11-15\n",
      "4      4     Ryan 729.00 2014-05-11\n",
      "5      5     Gary 843.25 2015-03-27\n"
     ]
    }
   ],
   "source": [
    "# Create the data frame.\n",
    "emp.data <- data.frame(\n",
    "   emp_id = c (1:5), \n",
    "   emp_name = c(\"Rick\",\"Dan\",\"Michelle\",\"Ryan\",\"Gary\"),\n",
    "   salary = c(623.3,515.2,611.0,729.0,843.25), \n",
    "   \n",
    "   start_date = as.Date(c(\"2012-01-01\", \"2013-09-23\", \"2014-11-15\", \"2014-05-11\",\n",
    "      \"2015-03-27\")),\n",
    "   stringsAsFactors = FALSE\n",
    ")\n",
    "# Print the data frame.\t\t\t\n",
    "print(emp.data) "
   ]
  },
  {
   "cell_type": "code",
   "execution_count": 14,
   "id": "91566d45",
   "metadata": {},
   "outputs": [
    {
     "name": "stdout",
     "output_type": "stream",
     "text": [
      "'data.frame':\t5 obs. of  4 variables:\n",
      " $ emp_id    : int  1 2 3 4 5\n",
      " $ emp_name  : chr  \"Rick\" \"Dan\" \"Michelle\" \"Ryan\" ...\n",
      " $ salary    : num  623 515 611 729 843\n",
      " $ start_date: Date, format: \"2012-01-01\" \"2013-09-23\" ...\n"
     ]
    }
   ],
   "source": [
    "# Create the data frame.\n",
    "emp.data <- data.frame(\n",
    "   emp_id = c (1:5), \n",
    "   emp_name = c(\"Rick\",\"Dan\",\"Michelle\",\"Ryan\",\"Gary\"),\n",
    "   salary = c(623.3,515.2,611.0,729.0,843.25), \n",
    "   \n",
    "   start_date = as.Date(c(\"2012-01-01\", \"2013-09-23\", \"2014-11-15\", \"2014-05-11\",\n",
    "      \"2015-03-27\")),\n",
    "   stringsAsFactors = FALSE\n",
    ")\n",
    "# Get the structure of the data frame.\n",
    "str(emp.data)\n"
   ]
  },
  {
   "cell_type": "code",
   "execution_count": 15,
   "id": "c83053c0",
   "metadata": {},
   "outputs": [
    {
     "name": "stdout",
     "output_type": "stream",
     "text": [
      "     emp_id    emp_name             salary        start_date        \n",
      " Min.   :1   Length:5           Min.   :515.2   Min.   :2012-01-01  \n",
      " 1st Qu.:2   Class :character   1st Qu.:611.0   1st Qu.:2013-09-23  \n",
      " Median :3   Mode  :character   Median :623.3   Median :2014-05-11  \n",
      " Mean   :3                      Mean   :664.4   Mean   :2014-01-14  \n",
      " 3rd Qu.:4                      3rd Qu.:729.0   3rd Qu.:2014-11-15  \n",
      " Max.   :5                      Max.   :843.2   Max.   :2015-03-27  \n"
     ]
    }
   ],
   "source": [
    "# Create the data frame.\n",
    "emp.data <- data.frame(\n",
    "   emp_id = c (1:5), \n",
    "   emp_name = c(\"Rick\",\"Dan\",\"Michelle\",\"Ryan\",\"Gary\"),\n",
    "   salary = c(623.3,515.2,611.0,729.0,843.25), \n",
    "   \n",
    "   start_date = as.Date(c(\"2012-01-01\", \"2013-09-23\", \"2014-11-15\", \"2014-05-11\",\n",
    "      \"2015-03-27\")),\n",
    "   stringsAsFactors = FALSE\n",
    ")\n",
    "# Print the summary.\n",
    "print(summary(emp.data))  "
   ]
  },
  {
   "cell_type": "code",
   "execution_count": 16,
   "id": "5d226b56",
   "metadata": {},
   "outputs": [
    {
     "name": "stdout",
     "output_type": "stream",
     "text": [
      "  emp.data.emp_name emp.data.salary\n",
      "1              Rick          623.30\n",
      "2               Dan          515.20\n",
      "3          Michelle          611.00\n",
      "4              Ryan          729.00\n",
      "5              Gary          843.25\n"
     ]
    }
   ],
   "source": [
    "# Create the data frame.\n",
    "emp.data <- data.frame(\n",
    "   emp_id = c (1:5),\n",
    "   emp_name = c(\"Rick\",\"Dan\",\"Michelle\",\"Ryan\",\"Gary\"),\n",
    "   salary = c(623.3,515.2,611.0,729.0,843.25),\n",
    "   \n",
    "   start_date = as.Date(c(\"2012-01-01\",\"2013-09-23\",\"2014-11-15\",\"2014-05-11\",\n",
    "      \"2015-03-27\")),\n",
    "   stringsAsFactors = FALSE\n",
    ")\n",
    "# Extract Specific columns.\n",
    "result <- data.frame(emp.data$emp_name,emp.data$salary)\n",
    "print(result)"
   ]
  },
  {
   "cell_type": "code",
   "execution_count": 17,
   "id": "8a6c378d",
   "metadata": {},
   "outputs": [
    {
     "name": "stdout",
     "output_type": "stream",
     "text": [
      "  emp_id emp_name salary start_date       dept\n",
      "1      1     Rick 623.30 2012-01-01         IT\n",
      "2      2      Dan 515.20 2013-09-23 Operations\n",
      "3      3 Michelle 611.00 2014-11-15         IT\n",
      "4      4     Ryan 729.00 2014-05-11         HR\n",
      "5      5     Gary 843.25 2015-03-27    Finance\n",
      "6      6    Rasmi 578.00 2013-05-21         IT\n",
      "7      7   Pranab 722.50 2013-07-30 Operations\n",
      "8      8    Tusar 632.80 2014-06-17   Fianance\n"
     ]
    }
   ],
   "source": [
    "#Create the first data frame.\n",
    "emp.data <- data.frame(\n",
    "   emp_id = c (1:5), \n",
    "   emp_name = c(\"Rick\",\"Dan\",\"Michelle\",\"Ryan\",\"Gary\"),\n",
    "   salary = c(623.3,515.2,611.0,729.0,843.25), \n",
    "   \n",
    "   start_date = as.Date(c(\"2012-01-01\", \"2013-09-23\", \"2014-11-15\", \"2014-05-11\",\n",
    "      \"2015-03-27\")),\n",
    "   dept = c(\"IT\",\"Operations\",\"IT\",\"HR\",\"Finance\"),\n",
    "   stringsAsFactors = FALSE\n",
    ")\n",
    "\n",
    "# Create the second data frame\n",
    "emp.newdata <- \tdata.frame(\n",
    "   emp_id = c (6:8), \n",
    "   emp_name = c(\"Rasmi\",\"Pranab\",\"Tusar\"),\n",
    "   salary = c(578.0,722.5,632.8), \n",
    "   start_date = as.Date(c(\"2013-05-21\",\"2013-07-30\",\"2014-06-17\")),\n",
    "   dept = c(\"IT\",\"Operations\",\"Fianance\"),\n",
    "   stringsAsFactors = FALSE\n",
    ")\n",
    "\n",
    "# Bind the two data frames.\n",
    "emp.finaldata <- rbind(emp.data,emp.newdata)\n",
    "print(emp.finaldata)"
   ]
  },
  {
   "cell_type": "code",
   "execution_count": null,
   "id": "cf8d9699",
   "metadata": {},
   "outputs": [],
   "source": []
  }
 ],
 "metadata": {
  "kernelspec": {
   "display_name": "R",
   "language": "R",
   "name": "ir"
  },
  "language_info": {
   "codemirror_mode": "r",
   "file_extension": ".r",
   "mimetype": "text/x-r-source",
   "name": "R",
   "pygments_lexer": "r",
   "version": "3.6.1"
  }
 },
 "nbformat": 4,
 "nbformat_minor": 5
}
